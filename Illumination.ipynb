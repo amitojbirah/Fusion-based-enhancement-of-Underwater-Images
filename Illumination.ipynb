{
  "nbformat": 4,
  "nbformat_minor": 0,
  "metadata": {
    "colab": {
      "provenance": []
    },
    "kernelspec": {
      "name": "python3",
      "display_name": "Python 3"
    },
    "language_info": {
      "name": "python"
    }
  },
  "cells": [
    {
      "cell_type": "markdown",
      "source": [
        "## Illumination"
      ],
      "metadata": {
        "id": "iNw5UiaOa6yN"
      }
    },
    {
      "cell_type": "code",
      "execution_count": null,
      "metadata": {
        "id": "YNxzwbnYZThx"
      },
      "outputs": [],
      "source": [
        "from PIL import Image, ImageStat\n",
        "import cv2\n",
        "import numpy as np\n",
        "import math\n",
        "\n",
        "class illuminance:\n",
        "  def illuminanceDetection(self, img_path):\n",
        "    im = Image.open(img_path)\n",
        "    stat = ImageStat.Stat(im)\n",
        "    return stat.rms[0]\n",
        "\n",
        "\n",
        "  def illuminanceCorrection(self, img_path):\n",
        "    img = cv2.imread(img_path)\n",
        "    img_grey = cv2.cvtColor(img, cv2.COLOR_BGR2GRAY)\n",
        "    mid = 0.5\n",
        "    mean = np.mean(img_grey)\n",
        "    gamma = math.log(mid*255)/math.log(mean)\n",
        "\n",
        "    img = np.power(img, gamma).clip(0,255).astype(np.uint8)\n",
        "\n",
        "    return img"
      ]
    },
    {
      "cell_type": "code",
      "source": [
        "!mkdir illum\n",
        "source = '/content/cc'\n",
        "path1 = '/content/illum'\n",
        "allfiles = os.listdir(source)\n",
        "illum = illumMod.illuminance()\n",
        "# print(allfiles)\n",
        "for f in allfiles:\n",
        "    src_path = os.path.join(source, f)\n",
        "    illum_img = illum.illuminanceCorrection(src_path)\n",
        "    out = os.path.join(path1, f)\n",
        "    cv2.imwrite(out,illum_img)\n",
        "    print(f)"
      ],
      "metadata": {
        "id": "Y0R4fV83axHM"
      },
      "execution_count": null,
      "outputs": []
    }
  ]
}