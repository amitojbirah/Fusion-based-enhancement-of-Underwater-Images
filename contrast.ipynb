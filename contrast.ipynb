{
  "nbformat": 4,
  "nbformat_minor": 0,
  "metadata": {
    "colab": {
      "provenance": []
    },
    "kernelspec": {
      "name": "python3",
      "display_name": "Python 3"
    },
    "language_info": {
      "name": "python"
    }
  },
  "cells": [
    {
      "cell_type": "markdown",
      "source": [
        "## CONTRAST ENHANCEMENT"
      ],
      "metadata": {
        "id": "kM5GZZ61ZxWy"
      }
    },
    {
      "cell_type": "code",
      "source": [
        "import cv2\n",
        "\n",
        "\n",
        "class contrast:\n",
        "\n",
        "  def clahe(self,img_path):\n",
        "    img = cv2.imread(img_path, cv2.IMREAD_COLOR)\n",
        "    img = cv2.cvtColor(img, cv2.COLOR_RGB2Lab)\n",
        "\n",
        "    clahe = cv2.createCLAHE(clipLimit = 5, tileGridSize = (2,2))\n",
        "    img[:,:,0] = clahe.apply(img[:,:,0])\n",
        "\n",
        "    img = cv2.cvtColor(img, cv2.COLOR_Lab2RGB)\n",
        "\n",
        "    return(img)"
      ],
      "metadata": {
        "id": "XAthDS2NZt-i"
      },
      "execution_count": null,
      "outputs": []
    },
    {
      "cell_type": "code",
      "execution_count": null,
      "metadata": {
        "id": "3Wz4COWCZQKv"
      },
      "outputs": [],
      "source": [
        "img_path = '/content/challenging-60/10226.png'\n",
        "imu = img_path.split('/')[-1][0:]\n",
        "clh = contMod.contrast()\n",
        "print(imu)\n",
        "!mkdir cc\n",
        "out='/content/cc/contrastCorrected'+''+imu\n",
        "cv2.imwrite(out,clh.clahe(img_path))"
      ]
    }
  ]
}