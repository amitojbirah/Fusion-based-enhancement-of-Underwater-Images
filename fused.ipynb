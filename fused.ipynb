{
  "nbformat": 4,
  "nbformat_minor": 0,
  "metadata": {
    "colab": {
      "provenance": []
    },
    "kernelspec": {
      "name": "python3",
      "display_name": "Python 3"
    },
    "language_info": {
      "name": "python"
    }
  },
  "cells": [
    {
      "cell_type": "markdown",
      "source": [
        "# Fusion"
      ],
      "metadata": {
        "id": "N5_cOfgdbdht"
      }
    },
    {
      "cell_type": "code",
      "execution_count": null,
      "metadata": {
        "id": "R9Tr6RvIZUNm"
      },
      "outputs": [],
      "source": [
        "\n",
        "import pywt\n",
        "import cv2\n",
        "import numpy as np\n",
        "from PIL import Image\n",
        "\n",
        "\n",
        "class dwt_fusion:\n",
        "  # This function does the coefficient fusing according to the fusion method\n",
        "  def fuseCoeff(self, cooef1, cooef2, fusion_method):\n",
        "    if (fusion_method == 'mean'):\n",
        "        cooef = (cooef1 + cooef2) / 2\n",
        "    elif (fusion_method == 'min'):\n",
        "        cooef = np.minimum(cooef1,cooef2)\n",
        "    elif (fusion_method == 'max'):\n",
        "        cooef = np.maximum(cooef1,cooef2)\n",
        "    else:\n",
        "        cooef = []\n",
        "    return cooef\n",
        "\n",
        "\n",
        "  def fusion(self, fusion_method, img_path1, img_path2, wavelet):\n",
        "\n",
        "    I1 = cv2.imread(img_path1,1)\n",
        "    I2 = cv2.imread(img_path2,1)\n",
        "\n",
        "    channel1 = I1[:,:,0]\n",
        "    channel2 = I1[:,:,1]\n",
        "    channel3 = I1[:,:,2]\n",
        "    first = np.dstack((channel1,channel2,channel3))\n",
        "\n",
        "## For the first channel\n",
        "    coef1 = pywt.wavedec2(I1[:,:,0], wavelet)\n",
        "    coef2 = pywt.wavedec2(I2[:,:,0], wavelet)\n",
        "\n",
        "    fused = []\n",
        "\n",
        "    for i in range(len(coef1) - 1):\n",
        "      if(i == 0):\n",
        "        fused.append(self.fuseCoeff(coef1[0], coef2[0], fusion_method))\n",
        "\n",
        "      else:\n",
        "        c10 = self.fuseCoeff(coef1[i][0], coef2[i][0], fusion_method)\n",
        "        c20 = self.fuseCoeff(coef1[i][1], coef2[i][1], fusion_method)\n",
        "        c30 = self.fuseCoeff(coef1[i][2], coef2[i][2], fusion_method)\n",
        "        fused.append((c10,c20,c30))\n",
        "\n",
        "    fusedImage0 = pywt.waverec2(fused, wavelet)\n",
        "    fusedImage0 = np.multiply(np.divide(fusedImage0 - np.min(fusedImage0),(np.max(fusedImage0) - np.min(fusedImage0))),255)\n",
        "    fusedImage0 = fusedImage0.astype(np.uint8)\n",
        "\n",
        "\n",
        "## For the second channel\n",
        "    coef3 = pywt.wavedec2(I1[:,:,1], wavelet)\n",
        "    coef4 = pywt.wavedec2(I2[:,:,1], wavelet)\n",
        "\n",
        "    fused = []\n",
        "\n",
        "    for i in range(len(coef3) - 1):\n",
        "      if(i == 0):\n",
        "        fused.append(self.fuseCoeff(coef3[0], coef4[0], fusion_method))\n",
        "\n",
        "      else:\n",
        "        c11 = self.fuseCoeff(coef3[i][0], coef4[i][0], fusion_method)\n",
        "        c21 = self.fuseCoeff(coef3[i][1], coef4[i][1], fusion_method)\n",
        "        c31 = self.fuseCoeff(coef3[i][2], coef4[i][2], fusion_method)\n",
        "        fused.append((c11,c21,c31))\n",
        "\n",
        "    fusedImage1 = pywt.waverec2(fused, wavelet)\n",
        "    fusedImage1 = np.multiply(np.divide(fusedImage1 - np.min(fusedImage1),(np.max(fusedImage1) - np.min(fusedImage1))),255)\n",
        "    fusedImage1 = fusedImage1.astype(np.uint8)\n",
        "\n",
        "\n",
        "## For the third channel\n",
        "    coef5 = pywt.wavedec2(I1[:,:,2], wavelet)\n",
        "    coef6 = pywt.wavedec2(I2[:,:,2], wavelet)\n",
        "\n",
        "    fused = []\n",
        "\n",
        "    for i in range(len(coef5) - 1):\n",
        "      if(i == 0):\n",
        "        fused.append(self.fuseCoeff(coef5[0], coef6[0], fusion_method))\n",
        "\n",
        "      else:\n",
        "        c12 = self.fuseCoeff(coef5[i][0], coef6[i][0], fusion_method)\n",
        "        c22 = self.fuseCoeff(coef5[i][1], coef6[i][1], fusion_method)\n",
        "        c32 = self.fuseCoeff(coef5[i][2], coef6[i][2], fusion_method)\n",
        "        fused.append((c12,c22,c32))\n",
        "\n",
        "    fusedImage2 = pywt.waverec2(fused, wavelet)\n",
        "    fusedImage2 = np.multiply(np.divide(fusedImage2 - np.min(fusedImage2),(np.max(fusedImage2) - np.min(fusedImage2))),255)\n",
        "    fusedImage2 = fusedImage2.astype(np.uint8)\n",
        "\n",
        "\n",
        "    channel11=fusedImage0[:,:]\n",
        "    channel12=fusedImage1[:,:]\n",
        "    channel13=fusedImage2[:,:]\n",
        "\n",
        "    final = np.dstack((channel11,channel12,channel13))\n",
        "\n",
        "\n",
        "    return(final)"
      ]
    },
    {
      "cell_type": "code",
      "execution_count": null,
      "metadata": {
        "id": "Nj45dgbSxb_-"
      },
      "outputs": [],
      "source": [
        "def resize(img1, img2):\n",
        "  path = img2\n",
        "  img1 = Image.open(img1)\n",
        "  w1, h1 = img1.size\n",
        "  img2 = Image.open(img2)\n",
        "  img2 = img2.resize((w1,h1))\n",
        "  img2.save(path)"
      ]
    },
    {
      "cell_type": "code",
      "execution_count": null,
      "metadata": {
        "id": "u68VK1o4lCyu",
        "colab": {
          "base_uri": "https://localhost:8080/"
        },
        "outputId": "c988c7d2-667b-40b5-9b26-df123d6efc0e"
      },
      "outputs": [
        {
          "output_type": "execute_result",
          "data": {
            "text/plain": [
              "True"
            ]
          },
          "metadata": {},
          "execution_count": 24
        }
      ],
      "source": [
        "import fusionmodule as fuseMod\n",
        "from PIL import Image, ImageStat\n",
        "fuse = fuseMod.dwt_fusion()\n",
        "resize('/content/dehazed_test_images/dehazed_100001.png','/content/illum/contrastCorrected10226.png')\n",
        "img = fuse.fusion('mean', '/content/dehazed_test_images/dehazed_100001.png', '/content/illum/contrastCorrected10226.png', 'db4')\n",
        "cv2.imwrite('FusedImage100001.png',img)"
      ]
    }
  ]
}